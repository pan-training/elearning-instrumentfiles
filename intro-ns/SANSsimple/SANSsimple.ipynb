{
 "cells": [
  {
   "cell_type": "code",
   "execution_count": null,
   "id": "restricted-brick",
   "metadata": {},
   "outputs": [],
   "source": [
    "import mcstasscript as ms\n",
    "import mcstasscript.jb_interface as ms_widget\n",
    "\n",
    "import make_SANSsimple\n",
    "%matplotlib widget"
   ]
  },
  {
   "cell_type": "markdown",
   "id": "premium-austin",
   "metadata": {},
   "source": [
    "# Simple SANS experiment with Liposome sample"
   ]
  },
  {
   "cell_type": "markdown",
   "id": "constant-playing",
   "metadata": {},
   "source": [
    "![alt](SANSsimple.png)"
   ]
  },
  {
   "cell_type": "code",
   "execution_count": null,
   "id": "binary-winner",
   "metadata": {},
   "outputs": [],
   "source": [
    "instrument = make_SANSsimple.make()\n",
    "ms_widget.show(instrument)"
   ]
  },
  {
   "cell_type": "code",
   "execution_count": null,
   "id": "cardiac-implement",
   "metadata": {},
   "outputs": [],
   "source": [
    "instrument.show_instrument()"
   ]
  }
 ],
 "metadata": {
  "kernelspec": {
   "display_name": "Python 3 (ipykernel)",
   "language": "python",
   "name": "python3"
  },
  "language_info": {
   "codemirror_mode": {
    "name": "ipython",
    "version": 3
   },
   "file_extension": ".py",
   "mimetype": "text/x-python",
   "name": "python",
   "nbconvert_exporter": "python",
   "pygments_lexer": "ipython3",
   "version": "3.9.6"
  }
 },
 "nbformat": 4,
 "nbformat_minor": 5
}
