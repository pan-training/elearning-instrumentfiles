{
 "cells": [
  {
   "cell_type": "code",
   "execution_count": 2,
   "id": "restricted-brick",
   "metadata": {},
   "outputs": [],
   "source": [
    "import mcstasscript as ms\n",
    "import mcstasscript.jb_interface as ms_widget\n",
    "\n",
    "import make_Nanodisc_Loki\n",
    "%matplotlib widget"
   ]
  },
  {
   "cell_type": "markdown",
   "id": "premium-austin",
   "metadata": {},
   "source": [
    "# ESS LOKI instrument with Nanodisc sample"
   ]
  },
  {
   "cell_type": "markdown",
   "id": "constant-playing",
   "metadata": {},
   "source": [
    "![alt](Nanodisc_Loki.png)"
   ]
  },
  {
   "cell_type": "code",
   "execution_count": null,
   "id": "2fdbb40b-adc6-4048-a096-deccb3a2480f",
   "metadata": {},
   "outputs": [],
   "source": [
    "instrument = make_Nanodisc_Loki.make()\n",
    "ms_widget.show(instrument)"
   ]
  },
  {
   "cell_type": "code",
   "execution_count": null,
   "id": "a300905f-ddb6-4e9a-beeb-09f4a5b5ed25",
   "metadata": {},
   "outputs": [],
   "source": [
    "instrument.show_instrument()"
   ]
  }
 ],
 "metadata": {
  "kernelspec": {
   "display_name": "Python 3 (ipykernel)",
   "language": "python",
   "name": "python3"
  },
  "language_info": {
   "codemirror_mode": {
    "name": "ipython",
    "version": 3
   },
   "file_extension": ".py",
   "mimetype": "text/x-python",
   "name": "python",
   "nbconvert_exporter": "python",
   "pygments_lexer": "ipython3",
   "version": "3.9.6"
  }
 },
 "nbformat": 4,
 "nbformat_minor": 5
}
