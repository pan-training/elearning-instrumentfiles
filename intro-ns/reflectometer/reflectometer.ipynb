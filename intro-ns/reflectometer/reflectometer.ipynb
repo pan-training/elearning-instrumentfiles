{
 "cells": [
  {
   "cell_type": "code",
   "execution_count": null,
   "id": "restricted-brick",
   "metadata": {},
   "outputs": [],
   "source": [
    "import mcstasscript as ms\n",
    "import mcstasscript.jb_interface as ms_widget\n",
    "\n",
    "import make_reflectometer\n",
    "%matplotlib widget"
   ]
  },
  {
   "cell_type": "markdown",
   "id": "premium-austin",
   "metadata": {},
   "source": [
    "# Reflectometer"
   ]
  },
  {
   "cell_type": "markdown",
   "id": "constant-playing",
   "metadata": {},
   "source": [
    "![alt](reflectometer.png)"
   ]
  },
  {
   "cell_type": "code",
   "execution_count": null,
   "id": "binary-winner",
   "metadata": {},
   "outputs": [],
   "source": [
    "instrument = make_reflectometer.make()\n",
    "ms_widget.show(instrument)"
   ]
  },
  {
   "cell_type": "code",
   "execution_count": null,
   "id": "cardiac-implement",
   "metadata": {},
   "outputs": [],
   "source": [
    "instrument.show_instrument()"
   ]
  }
 ],
 "metadata": {
  "kernelspec": {
   "display_name": "Python 3",
   "language": "python",
   "name": "python3"
  },
  "language_info": {
   "codemirror_mode": {
    "name": "ipython",
    "version": 3
   },
   "file_extension": ".py",
   "mimetype": "text/x-python",
   "name": "python",
   "nbconvert_exporter": "python",
   "pygments_lexer": "ipython3",
   "version": "3.8.8"
  }
 },
 "nbformat": 4,
 "nbformat_minor": 5
}
